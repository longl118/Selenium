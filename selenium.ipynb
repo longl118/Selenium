{
 "cells": [
  {
   "cell_type": "code",
   "execution_count": 13,
   "id": "c5494f04",
   "metadata": {},
   "outputs": [
    {
     "name": "stderr",
     "output_type": "stream",
     "text": [
      "\n",
      "\n",
      "====== WebDriver manager ======\n",
      "Current google-chrome version is 96.0.4664\n",
      "Get LATEST chromedriver version for 96.0.4664 google-chrome\n",
      "There is no [win32] chromedriver for browser  in cache\n",
      "Trying to download new driver from https://chromedriver.storage.googleapis.com/96.0.4664.45/chromedriver_win32.zip\n",
      "Driver has been saved in cache [C:\\Users\\YY的第一台笔记本\\.wdm\\drivers\\chromedriver\\win32\\96.0.4664.45]\n"
     ]
    }
   ],
   "source": [
    "from selenium import webdriver\n",
    "from webdriver_manager.chrome import ChromeDriverManager\n",
    "driver = webdriver.Chrome(ChromeDriverManager().install())\n",
    "#进入网页\n",
    "driver.get(\"https://www.baidu.com/\")\n"
   ]
  },
  {
   "cell_type": "code",
   "execution_count": 16,
   "id": "373d366a",
   "metadata": {},
   "outputs": [],
   "source": [
    "p_input = driver.find_element_by_id(\"kw\")\n",
    "p_input.send_keys('爱奇艺')\n"
   ]
  },
  {
   "cell_type": "code",
   "execution_count": 17,
   "id": "86567cc2",
   "metadata": {},
   "outputs": [],
   "source": [
    "#点击搜索按钮\n",
    "p_btn=driver.find_element_by_id('su')\n",
    "p_btn.click()"
   ]
  },
  {
   "cell_type": "code",
   "execution_count": 20,
   "id": "441f600f",
   "metadata": {},
   "outputs": [
    {
     "name": "stderr",
     "output_type": "stream",
     "text": [
      "\n",
      "\n",
      "====== WebDriver manager ======\n",
      "Current google-chrome version is 96.0.4664\n",
      "Get LATEST chromedriver version for 96.0.4664 google-chrome\n",
      "Driver [C:\\Users\\YY的第一台笔记本\\.wdm\\drivers\\chromedriver\\win32\\96.0.4664.45\\chromedriver.exe] found in cache\n",
      "100%|██████████████████████████████████████████████████████████████████████████████████| 10/10 [00:00<00:00, 24.16it/s]"
     ]
    },
    {
     "name": "stdout",
     "output_type": "stream",
     "text": [
      "爬取信息成功\n"
     ]
    },
    {
     "name": "stderr",
     "output_type": "stream",
     "text": [
      "\n"
     ]
    }
   ],
   "source": [
    "\n",
    "from bs4 import BeautifulSoup as bs\n",
    "from selenium import webdriver\n",
    "import csv\n",
    "from selenium.webdriver.chrome.options import Options\n",
    "from tqdm import tqdm#在电脑终端上显示进度，使代码可视化进度加快\n",
    "from webdriver_manager.chrome import ChromeDriverManager\n",
    "driver = webdriver.Chrome(ChromeDriverManager().install())\n",
    "driver.get('http://quotes.toscrape.com/js/')\n",
    "#定义csv表头\n",
    "quote_head=['名言','作者']\n",
    "#csv文件的路径和名字\n",
    "quote_path='D:\\\\1azanshi\\\\a\\\\quote_csv.csv'\n",
    "#存放内容的列表\n",
    "quote_content=[]\n",
    "\n",
    "'''\n",
    "function_name:write_csv\n",
    "parameters:   csv_head,csv_content,csv_path\n",
    "csv_head:     the csv file head\n",
    "csv_content:  the csv file content,the number of columns equal to length of csv_head\n",
    "csv_path:     the csv file route\n",
    "'''\n",
    "def write_csv(csv_head,csv_content,csv_path):\n",
    "    with open(csv_path, 'w', newline='') as file:\n",
    "        fileWriter =csv.writer(file)\n",
    "        fileWriter.writerow(csv_head)\n",
    "        fileWriter.writerows(csv_content)\n",
    "        print('爬取信息成功')\n",
    "\n",
    "###\n",
    "#可以用find_elements_by_class_name获取所有含这个元素的集合（列表也有可能）\n",
    "#然后把这个提取出来之后再用继续提取\n",
    "quote=driver.find_elements_by_class_name(\"quote\")\n",
    "#将要收集的信息放在quote_content里\n",
    "for i in tqdm(range(len(quote))):    \n",
    "    quote_text=quote[i].find_element_by_class_name(\"text\")\n",
    "    quote_author=quote[i].find_element_by_class_name(\"author\")\n",
    "    temp=[]\n",
    "    temp.append(quote_text.text)\n",
    "    temp.append(quote_author.text)\n",
    "    quote_content.append(temp)\n",
    "write_csv(quote_head,quote_content,quote_path)\n"
   ]
  },
  {
   "cell_type": "code",
   "execution_count": 28,
   "id": "d14fa98b",
   "metadata": {},
   "outputs": [
    {
     "name": "stderr",
     "output_type": "stream",
     "text": [
      "\n",
      "\n",
      "====== WebDriver manager ======\n",
      "Current google-chrome version is 96.0.4664\n",
      "Get LATEST chromedriver version for 96.0.4664 google-chrome\n",
      "Driver [C:\\Users\\YY的第一台笔记本\\.wdm\\drivers\\chromedriver\\win32\\96.0.4664.45\\chromedriver.exe] found in cache\n",
      "100%|██████████████████████████████████████████████████████████████████████████████████| 30/30 [00:03<00:00,  8.59it/s]\n",
      "100%|██████████████████████████████████████████████████████████████████████████████████| 60/60 [00:06<00:00,  9.00it/s]\n",
      "100%|██████████████████████████████████████████████████████████████████████████████████| 60/60 [00:06<00:00,  9.09it/s]\n",
      " 82%|██████████████████████████████████████████████████████████████████▉               | 49/60 [00:05<00:01,  8.86it/s]\n"
     ]
    }
   ],
   "source": [
    "from selenium import webdriver\n",
    "import time\n",
    "import csv\n",
    "from tqdm import tqdm#在电脑终端上显示进度，使代码可视化进度加快\n",
    "from webdriver_manager.chrome import ChromeDriverManager\n",
    "driver = webdriver.Chrome(ChromeDriverManager().install())\n",
    "#加载页面\n",
    "driver.get(\"https://www.jd.com/\")\n",
    "time.sleep(3)\n",
    "\n",
    "#定义存放图书信息的列表\n",
    "goods_info_list=[]\n",
    "#爬取200本\n",
    "goods_num=200\n",
    "#定义表头\n",
    "goods_head=['名字','价格','评价条数','店铺','链接']\n",
    "#csv文件的路径和名字\n",
    "goods_path='D:\\\\1azanshi\\\\a\\\\honglou1.csv'\n",
    "\n",
    "#向输入框里输入Java\n",
    "p_input = driver.find_element_by_id(\"key\")\n",
    "p_input.send_keys('红楼梦')\n",
    "\n",
    "#button好像不能根据类名直接获取，先获取大的div，再获取按钮\n",
    "from_filed=driver.find_element_by_class_name('form')\n",
    "s_btn=from_filed.find_element_by_tag_name('button')\n",
    "s_btn.click()#实现点击\n",
    "\n",
    "#获取商品名字,价格,评价条数，店铺，链接\n",
    "def get_prince_and_name(goods):\n",
    "    #直接用css定位元素\n",
    "    #获取名字\n",
    "    goods_price=goods.find_element_by_css_selector('div.p-name')\n",
    "    #获取价格\n",
    "    goods_name=goods.find_element_by_css_selector('div.p-price')\n",
    "    #获取评价条数\n",
    "    goods_commit=goods.find_element_by_css_selector('div.p-commit')\n",
    "    #获取店铺名称\n",
    "    goods_shopnum=goods.find_element_by_css_selector('div.p-shopnum')\n",
    "    #获取链接\n",
    "    goods_herf=goods.find_element_by_css_selector('div.p-img>a').get_property('href')\n",
    "    return goods_name,goods_price,goods_commit,goods_shopnum,goods_herf\n",
    "\n",
    "def  drop_down(web_driver):\n",
    "    #将滚动条调整至页面底部\n",
    "    web_driver.execute_script('window.scrollTo(0, document.body.scrollHeight)')\n",
    "    time.sleep(3)\n",
    "\n",
    "#获取爬取一页\n",
    "def crawl_a_page(web_driver,goods_num):\n",
    "    #获取图书列表\n",
    "    drop_down(web_driver)\n",
    "    goods_list=web_driver.find_elements_by_css_selector('div#J_goodsList>ul>li')\n",
    "    #获取一个图书的价格、名字、链接\n",
    "    for i in tqdm(range(len(goods_list))):\n",
    "        goods_num-=1\n",
    "        goods_price,goods_name,goods_commit,goods_shopnum,goods_herf=get_prince_and_name(goods_list[i])\n",
    "        goods=[]\n",
    "        goods.append(goods_price.text)\n",
    "        goods.append(goods_name.text)\n",
    "        goods.append(goods_commit.text)\n",
    "        goods.append(goods_shopnum.text)\n",
    "        goods.append(goods_herf)\n",
    "        goods_info_list.append(goods)\n",
    "        if goods_num==0:\n",
    "            break\n",
    "    return goods_num\n",
    "\n",
    "while goods_num!=0:\n",
    "    goods_num=crawl_a_page(driver,goods_num)\n",
    "    btn=driver.find_element_by_class_name('pn-next').click()\n",
    "    time.sleep(1)\n",
    "write_csv(goods_head,goods_info_list,goods_path)\n"
   ]
  },
  {
   "cell_type": "code",
   "execution_count": 26,
   "id": "d4e77c88",
   "metadata": {},
   "outputs": [
    {
     "name": "stderr",
     "output_type": "stream",
     "text": [
      "\n",
      "\n",
      "====== WebDriver manager ======\n",
      "Current google-chrome version is 96.0.4664\n",
      "Get LATEST chromedriver version for 96.0.4664 google-chrome\n",
      "Driver [C:\\Users\\YY的第一台笔记本\\.wdm\\drivers\\chromedriver\\win32\\96.0.4664.45\\chromedriver.exe] found in cache\n"
     ]
    }
   ],
   "source": [
    "from selenium import webdriver\n",
    "import time\n",
    "import csv\n",
    "from tqdm import tqdm#在电脑终端上显示进度，使代码可视化进度加快\n",
    "from webdriver_manager.chrome import ChromeDriverManager\n",
    "driver = webdriver.Chrome(ChromeDriverManager().install())\n",
    "#加载页面\n",
    "driver.get(\"https://www.jd.com/\")\n",
    "time.sleep(3)\n",
    "\n",
    "\n",
    "# 输入需要查找的关键字\n",
    "p_input = driver.find_element_by_id('key')\n",
    "p_input.send_keys('红楼梦')  # 找到输入框输入\n",
    "time.sleep(1)\n",
    "# 点击搜素按钮\n",
    "button=driver.find_element_by_class_name(\"button\").click()\n",
    "time.sleep(1)\n",
    "all_book_info = []\n",
    "num=200\n",
    "head=['书名','作者', '价格',  '出版社']\n",
    "#csv文件的路径和名字\n",
    "path='D:\\\\1azanshi\\\\a\\\\honglou.csv'\n",
    "def write_csv(head,all_book_info,path):\n",
    "    with open(path, 'w', newline='',encoding='utf-8') as file:\n",
    "        fileWriter =csv.writer(file)\n",
    "        fileWriter.writerow(head)\n",
    "        fileWriter.writerows(all_book_info) \n",
    "# 爬取一页\n",
    "def get_onePage_info(web,num):\n",
    "    driver.execute_script('window.scrollTo(0, document.body.scrollHeight);')\n",
    "    time.sleep(2)\n",
    "    page_text =driver.page_source\n",
    "    # with open('3-.html', 'w', encoding='utf-8')as fp:\n",
    "    #     fp.write(page_text)\n",
    "    # 进行解析\n",
    "    tree = etree.HTML(page_text)\n",
    "    li_list = tree.xpath('//li[contains(@class,\"gl-item\")]')\n",
    "    for li in li_list:\n",
    "        num=num-1\n",
    "        book_infos = []\n",
    "        book_name = ''.join(li.xpath('.//div[@class=\"p-name\"]/a/em/text()'))     # 书名\n",
    "        book_infos.append(book_name)\n",
    "        author_span = li.xpath('.//span[@class=\"p-bi-name\"]/a/text()')\n",
    "        if len(author_span) > 0:  # 作者\n",
    "            author = author_span[0]\n",
    "        else:\n",
    "            author = '无'\n",
    "        book_infos.append(author)\n",
    "        price = '￥' + li.xpath('.//div[@class=\"p-price\"]/strong/i/text()')[0]   # 价格\n",
    "        book_infos.append(price)\n",
    "        store_span = li.xpath('.//span[@class=\"p-bi-store\"]/a[1]/text()')  # 出版社\n",
    "        if len(store_span) > 0:\n",
    "            store = store_span[0]\n",
    "        else:\n",
    "            store = '无'\n",
    "        book_infos.append(store)\n",
    "        all_book_info.append(book_infos)\n",
    "        if num==0:\n",
    "            break\n",
    "    return num\n",
    "\n",
    "while num!=0:\n",
    "    num=get_onePage_info(driver,num)\n",
    "    driver.find_element_by_class_name('pn-next').click()  # 点击下一页\n",
    "    time.sleep(2)\n",
    "write_csv(head,all_book_info,path)\n",
    "driver.close()\n"
   ]
  },
  {
   "cell_type": "code",
   "execution_count": null,
   "id": "f6cb2866",
   "metadata": {},
   "outputs": [],
   "source": []
  }
 ],
 "metadata": {
  "kernelspec": {
   "display_name": "Python 3",
   "language": "python",
   "name": "python3"
  },
  "language_info": {
   "codemirror_mode": {
    "name": "ipython",
    "version": 3
   },
   "file_extension": ".py",
   "mimetype": "text/x-python",
   "name": "python",
   "nbconvert_exporter": "python",
   "pygments_lexer": "ipython3",
   "version": "3.8.8"
  }
 },
 "nbformat": 4,
 "nbformat_minor": 5
}
